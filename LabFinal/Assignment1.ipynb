{
  "nbformat": 4,
  "nbformat_minor": 0,
  "metadata": {
    "colab": {
      "provenance": [],
      "mount_file_id": "1ChlvdiRnj2nOMV4LReVLaKKErIbPqeyZ",
      "authorship_tag": "ABX9TyMCX7AHFQcemAMuXc0cu9kp",
      "include_colab_link": true
    },
    "kernelspec": {
      "name": "python3",
      "display_name": "Python 3"
    },
    "language_info": {
      "name": "python"
    },
    "accelerator": "TPU"
  },
  "cells": [
    {
      "cell_type": "markdown",
      "metadata": {
        "id": "view-in-github",
        "colab_type": "text"
      },
      "source": [
        "<a href=\"https://colab.research.google.com/github/Bulbul80SWE/Ml_Assignment/blob/main/LabFinal/Assignment1.ipynb\" target=\"_parent\"><img src=\"https://colab.research.google.com/assets/colab-badge.svg\" alt=\"Open In Colab\"/></a>"
      ]
    },
    {
      "cell_type": "markdown",
      "source": [
        "Import Libraries"
      ],
      "metadata": {
        "id": "PjUYvTzSaoVr"
      }
    },
    {
      "cell_type": "code",
      "source": [
        "import os\n",
        "from tensorflow.keras.preprocessing.image import ImageDataGenerator\n",
        "from tensorflow.keras.models import Sequential\n",
        "from tensorflow.keras.layers import Conv2D, MaxPooling2D, Flatten, Dense"
      ],
      "metadata": {
        "id": "QEBTP7tJasZm"
      },
      "execution_count": 1,
      "outputs": []
    },
    {
      "cell_type": "markdown",
      "source": [
        "DriveMount"
      ],
      "metadata": {
        "id": "Q7Wm4-7PpiYV"
      }
    },
    {
      "cell_type": "code",
      "source": [
        "from google.colab import drive\n",
        "drive.mount('/content/drive')"
      ],
      "metadata": {
        "colab": {
          "base_uri": "https://localhost:8080/"
        },
        "id": "KfIsXRZppqFl",
        "outputId": "a17581c6-1d75-4950-ad9b-b745dbe917bf"
      },
      "execution_count": 2,
      "outputs": [
        {
          "output_type": "stream",
          "name": "stdout",
          "text": [
            "Drive already mounted at /content/drive; to attempt to forcibly remount, call drive.mount(\"/content/drive\", force_remount=True).\n"
          ]
        }
      ]
    },
    {
      "cell_type": "markdown",
      "source": [
        "Define image dimensions and batch size"
      ],
      "metadata": {
        "id": "ASk1nSqVqGls"
      }
    },
    {
      "cell_type": "code",
      "source": [
        "img_width, img_height = 150, 150\n",
        "batch_size = 32\n",
        ""
      ],
      "metadata": {
        "id": "inGzqK0NqOJl"
      },
      "execution_count": 3,
      "outputs": []
    },
    {
      "cell_type": "markdown",
      "source": [
        "Define the data directories"
      ],
      "metadata": {
        "id": "Gq-yBr_RqVto"
      }
    },
    {
      "cell_type": "code",
      "source": [
        "train_dir = '/content/drive/MyDrive/Ml/Archive/train'\n",
        "test_dir = '/content/drive/MyDrive/Ml/Archive/test'\n",
        "val_dir = '/content/drive/MyDrive/Ml/Archive/val'\n",
        "\n",
        ""
      ],
      "metadata": {
        "id": "Pj5bpQvzqZHB"
      },
      "execution_count": 4,
      "outputs": []
    },
    {
      "cell_type": "markdown",
      "source": [
        "Create data generators with augmentation for training data\n",
        "\n"
      ],
      "metadata": {
        "id": "6BrN62W3q8X0"
      }
    },
    {
      "cell_type": "code",
      "source": [
        "train_datagen = ImageDataGenerator(\n",
        "    rescale=1./255,\n",
        "    shear_range=0.2,\n",
        "    zoom_range=0.2,\n",
        "    horizontal_flip=True\n",
        ")\n",
        "\n",
        "test_datagen = ImageDataGenerator(rescale=1./255)\n",
        "\n",
        "train_generator = train_datagen.flow_from_directory(\n",
        "    train_dir,\n",
        "    target_size=(img_width, img_height),\n",
        "    batch_size=batch_size,\n",
        "    class_mode='binary'\n",
        ")\n",
        "\n",
        "validation_generator = test_datagen.flow_from_directory(\n",
        "    val_dir,\n",
        "    target_size=(img_width, img_height),\n",
        "    batch_size=batch_size,\n",
        "    class_mode='binary'\n",
        ")"
      ],
      "metadata": {
        "colab": {
          "base_uri": "https://localhost:8080/"
        },
        "id": "3FePBZZGq9VE",
        "outputId": "83cc0adf-b75b-48d7-900b-2db3e663d488"
      },
      "execution_count": 5,
      "outputs": [
        {
          "output_type": "stream",
          "name": "stdout",
          "text": [
            "Found 5216 images belonging to 2 classes.\n",
            "Found 16 images belonging to 2 classes.\n"
          ]
        }
      ]
    },
    {
      "cell_type": "markdown",
      "source": [
        "Build the CNN model\n",
        "\n"
      ],
      "metadata": {
        "id": "tc8eO-IcrTUc"
      }
    },
    {
      "cell_type": "code",
      "source": [
        "model = Sequential()\n",
        "model.add(Conv2D(32, (3, 3), input_shape=(img_width, img_height, 3), activation='relu'))\n",
        "model.add(MaxPooling2D(pool_size=(2, 2)))\n",
        "model.add(Conv2D(64, (3, 3), activation='relu'))\n",
        "model.add(MaxPooling2D(pool_size=(2, 2)))\n",
        "model.add(Conv2D(128, (3, 3), activation='relu'))\n",
        "model.add(MaxPooling2D(pool_size=(2, 2)))\n",
        "model.add(Flatten())\n",
        "model.add(Dense(128, activation='relu'))\n",
        "model.add(Dense(1, activation='sigmoid'))"
      ],
      "metadata": {
        "id": "_Fhc6nFvrUqS"
      },
      "execution_count": 6,
      "outputs": []
    },
    {
      "cell_type": "markdown",
      "source": [
        "Compile the model"
      ],
      "metadata": {
        "id": "BJHk6HH0rlE_"
      }
    },
    {
      "cell_type": "code",
      "source": [
        "model.compile(optimizer='adam', loss='binary_crossentropy', metrics=['accuracy'])\n"
      ],
      "metadata": {
        "id": "G8lVfbOHrmTd"
      },
      "execution_count": 7,
      "outputs": []
    },
    {
      "cell_type": "markdown",
      "source": [
        "Train the model\n",
        "\n"
      ],
      "metadata": {
        "id": "wKaG4jTlrt6N"
      }
    },
    {
      "cell_type": "code",
      "source": [
        "history = model.fit(\n",
        "    train_generator,\n",
        "    steps_per_epoch=train_generator.samples // batch_size,\n",
        "    epochs=10,\n",
        "    validation_data=validation_generator,\n",
        "    validation_steps=validation_generator.samples // batch_size\n",
        ")\n"
      ],
      "metadata": {
        "colab": {
          "base_uri": "https://localhost:8080/"
        },
        "id": "7a_uQMYOrvNi",
        "outputId": "dcbd19d8-f472-4770-b34c-72dd2913a573"
      },
      "execution_count": 8,
      "outputs": [
        {
          "output_type": "stream",
          "name": "stdout",
          "text": [
            "Epoch 1/10\n",
            "163/163 [==============================] - 980s 6s/step - loss: 0.3340 - accuracy: 0.8600\n",
            "Epoch 2/10\n",
            "163/163 [==============================] - 425s 3s/step - loss: 0.2082 - accuracy: 0.9170\n",
            "Epoch 3/10\n",
            "163/163 [==============================] - 433s 3s/step - loss: 0.1752 - accuracy: 0.9319\n",
            "Epoch 4/10\n",
            "163/163 [==============================] - 432s 3s/step - loss: 0.1616 - accuracy: 0.9381\n",
            "Epoch 5/10\n",
            "163/163 [==============================] - 431s 3s/step - loss: 0.1540 - accuracy: 0.9381\n",
            "Epoch 6/10\n",
            "163/163 [==============================] - 430s 3s/step - loss: 0.1522 - accuracy: 0.9402\n",
            "Epoch 7/10\n",
            "163/163 [==============================] - 437s 3s/step - loss: 0.1400 - accuracy: 0.9477\n",
            "Epoch 8/10\n",
            "163/163 [==============================] - 435s 3s/step - loss: 0.1416 - accuracy: 0.9488\n",
            "Epoch 9/10\n",
            "163/163 [==============================] - 422s 3s/step - loss: 0.1263 - accuracy: 0.9549\n",
            "Epoch 10/10\n",
            "163/163 [==============================] - 426s 3s/step - loss: 0.1291 - accuracy: 0.9515\n"
          ]
        }
      ]
    },
    {
      "cell_type": "markdown",
      "source": [
        "Evaluate the model on the test set\n",
        "\n"
      ],
      "metadata": {
        "id": "yVxN2p6Ar7_T"
      }
    },
    {
      "cell_type": "code",
      "source": [
        "test_generator = test_datagen.flow_from_directory(\n",
        "    test_dir,\n",
        "    target_size=(img_width, img_height),\n",
        "    batch_size=batch_size,\n",
        "    class_mode='binary'\n",
        ")\n",
        "\n",
        "test_loss, test_acc = model.evaluate(test_generator, steps=test_generator.samples // batch_size)\n",
        "print(f'Test accuracy: {test_acc}')"
      ],
      "metadata": {
        "colab": {
          "base_uri": "https://localhost:8080/"
        },
        "id": "r-H_FGTesAvH",
        "outputId": "5612a92d-2c2c-4dab-e9c1-8164aa644dc5"
      },
      "execution_count": 9,
      "outputs": [
        {
          "output_type": "stream",
          "name": "stdout",
          "text": [
            "Found 624 images belonging to 2 classes.\n",
            "19/19 [==============================] - 81s 4s/step - loss: 0.4432 - accuracy: 0.8668\n",
            "Test accuracy: 0.8667762875556946\n"
          ]
        }
      ]
    }
  ]
}